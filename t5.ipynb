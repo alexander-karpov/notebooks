{
 "cells": [
  {
   "cell_type": "code",
   "execution_count": 2,
   "id": "f5fb7b35",
   "metadata": {},
   "outputs": [
    {
     "name": "stdout",
     "output_type": "stream",
     "text": [
      "Requirement already satisfied: transformers in /home/kukuruku/.local/lib/python3.8/site-packages (4.16.2)\n",
      "Requirement already satisfied: sentencepiece in /home/kukuruku/.local/lib/python3.8/site-packages (0.1.96)\n",
      "Requirement already satisfied: tqdm>=4.27 in /home/kukuruku/.local/lib/python3.8/site-packages (from transformers) (4.62.3)\n",
      "Requirement already satisfied: regex!=2019.12.17 in /home/kukuruku/.local/lib/python3.8/site-packages (from transformers) (2022.1.18)\n",
      "Requirement already satisfied: numpy>=1.17 in /home/kukuruku/.local/lib/python3.8/site-packages (from transformers) (1.22.2)\n",
      "Requirement already satisfied: packaging>=20.0 in /home/kukuruku/.local/lib/python3.8/site-packages (from transformers) (21.3)\n",
      "Requirement already satisfied: tokenizers!=0.11.3,>=0.10.1 in /home/kukuruku/.local/lib/python3.8/site-packages (from transformers) (0.11.5)\n",
      "Requirement already satisfied: filelock in /home/kukuruku/.local/lib/python3.8/site-packages (from transformers) (3.6.0)\n",
      "Requirement already satisfied: huggingface-hub<1.0,>=0.1.0 in /home/kukuruku/.local/lib/python3.8/site-packages (from transformers) (0.4.0)\n",
      "Requirement already satisfied: sacremoses in /home/kukuruku/.local/lib/python3.8/site-packages (from transformers) (0.0.47)\n",
      "Requirement already satisfied: requests in /usr/lib/python3/dist-packages (from transformers) (2.22.0)\n",
      "Requirement already satisfied: pyyaml>=5.1 in /usr/lib/python3/dist-packages (from transformers) (5.3.1)\n",
      "Requirement already satisfied: pyparsing!=3.0.5,>=2.0.2 in /home/kukuruku/.local/lib/python3.8/site-packages (from packaging>=20.0->transformers) (3.0.7)\n",
      "Requirement already satisfied: typing-extensions>=3.7.4.3 in /home/kukuruku/.local/lib/python3.8/site-packages (from huggingface-hub<1.0,>=0.1.0->transformers) (4.1.1)\n",
      "Requirement already satisfied: joblib in /home/kukuruku/.local/lib/python3.8/site-packages (from sacremoses->transformers) (1.1.0)\n",
      "Requirement already satisfied: click in /home/kukuruku/.local/lib/python3.8/site-packages (from sacremoses->transformers) (8.0.3)\n",
      "Requirement already satisfied: six in /usr/lib/python3/dist-packages (from sacremoses->transformers) (1.14.0)\n",
      "<pad> Я не понимаю как ты.</s> <pad>\n",
      "<pad> Мне тобой не понимать.</s>\n",
      "<pad> Я с тобой не понимаю.</s>\n",
      "<pad> Почему ты меня не понимаешь?</s>\n",
      "<pad> Я не понимаю тебя.</s> <pad>\n"
     ]
    }
   ],
   "source": [
    "!pip install transformers sentencepiece\n",
    "\n",
    "import torch\n",
    "from transformers import T5ForConditionalGeneration, T5Tokenizer\n",
    "tokenizer = T5Tokenizer.from_pretrained(\"cointegrated/rut5-small-normalizer\")\n",
    "model = T5ForConditionalGeneration.from_pretrained(\"cointegrated/rut5-small-normalizer\")\n",
    "\n",
    "text = 'меня тобой не понимать'\n",
    "inputs = tokenizer(text, return_tensors='pt')\n",
    "with torch.no_grad():\n",
    "    hypotheses = model.generate(\n",
    "        **inputs, \n",
    "        do_sample=True, top_p=0.95, \n",
    "        num_return_sequences=5, \n",
    "        repetition_penalty=2.5,\n",
    "        max_length=32,\n",
    "    )\n",
    "for h in hypotheses:\n",
    "    print(tokenizer.decode(h, skip_special_tokens=True))"
   ]
  },
  {
   "cell_type": "code",
   "execution_count": 51,
   "id": "fc7d79f8",
   "metadata": {},
   "outputs": [
    {
     "name": "stdout",
     "output_type": "stream",
     "text": [
      "Только не повторяю за тобой.\n",
      "CPU times: user 230 ms, sys: 0 ns, total: 230 ms\n",
      "Wall time: 228 ms\n"
     ]
    }
   ],
   "source": [
    "def f():\n",
    "    text = 'только не повторяю за тобой'\n",
    "    inputs = tokenizer(text, return_tensors='pt')\n",
    "    with torch.no_grad():\n",
    "        hypotheses = model.generate(\n",
    "            **inputs, \n",
    "            do_sample=True, top_p=0.95, \n",
    "            num_return_sequences=1, \n",
    "            repetition_penalty=1.5,\n",
    "            max_length=32,\n",
    "        )\n",
    "    for h in hypotheses:\n",
    "        print(tokenizer.decode(h, skip_special_tokens=True))\n",
    "        \n",
    "%time f()"
   ]
  },
  {
   "cell_type": "code",
   "execution_count": 42,
   "id": "1a3e9b29",
   "metadata": {},
   "outputs": [
    {
     "name": "stderr",
     "output_type": "stream",
     "text": [
      "UsageError: Line magic function `%` not found.\n"
     ]
    }
   ],
   "source": [
    "%"
   ]
  },
  {
   "cell_type": "code",
   "execution_count": null,
   "id": "4b75c37c",
   "metadata": {},
   "outputs": [],
   "source": []
  }
 ],
 "metadata": {
  "kernelspec": {
   "display_name": "Python 3 (ipykernel)",
   "language": "python",
   "name": "python3"
  },
  "language_info": {
   "codemirror_mode": {
    "name": "ipython",
    "version": 3
   },
   "file_extension": ".py",
   "mimetype": "text/x-python",
   "name": "python",
   "nbconvert_exporter": "python",
   "pygments_lexer": "ipython3",
   "version": "3.8.10"
  }
 },
 "nbformat": 4,
 "nbformat_minor": 5
}
