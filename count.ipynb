{
 "cells": [
  {
   "cell_type": "code",
   "execution_count": 12,
   "id": "81fca443",
   "metadata": {},
   "outputs": [
    {
     "name": "stdout",
     "output_type": "stream",
     "text": [
      "0 starts\n",
      "0 work\n",
      "187086\n"
     ]
    }
   ],
   "source": [
    "import glob\n",
    "import os\n",
    "\n",
    "\n",
    "\n",
    "def get_filenames():\n",
    "    return glob.iglob('/mnt/notebooks-a/home/kukuruku/data/proza_ru/**/*.txt', recursive=True)\n",
    "\n",
    "\n",
    "FILES_COUNT = 10000000\n",
    "\n",
    "\n",
    "def process_text(p):\n",
    "#     progress = IntProgress(min=0, max=FILES_COUNT) # instantiate the bar\n",
    "#     display(progress)\n",
    "    \n",
    "    skip_num = p * 30000\n",
    "    retries = 0\n",
    "    \n",
    "    print(f\"{p} starts\")\n",
    "\n",
    "\n",
    "    i = 0\n",
    "    print(f\"{p} work\")\n",
    "\n",
    "\n",
    "    for file_name in get_filenames():\n",
    "        i += 1\n",
    "        if i < skip_num: continue\n",
    "\n",
    "        stanza_file_name = f\"{file_name}.stanza\"\n",
    "\n",
    "        if not os.path.isfile(stanza_file_name):\n",
    "            break\n",
    "\n",
    "#         with open(file_name, 'r') as file:\n",
    "#             text = file.read()\n",
    "#             if 'Была наука страсти нежной' in text:\n",
    "#                 print(text)\n",
    "#                 print('---------------------------')\n",
    "            \n",
    "#         if i % 10000 == 0: print(i)\n",
    "\n",
    "\n",
    "    print(i)\n",
    "\n",
    "process_text(0)"
   ]
  },
  {
   "cell_type": "code",
   "execution_count": null,
   "id": "ac119876",
   "metadata": {},
   "outputs": [],
   "source": []
  },
  {
   "cell_type": "code",
   "execution_count": null,
   "id": "f6ce9181",
   "metadata": {},
   "outputs": [],
   "source": []
  },
  {
   "cell_type": "code",
   "execution_count": null,
   "id": "d94adcdd",
   "metadata": {},
   "outputs": [],
   "source": []
  }
 ],
 "metadata": {
  "kernelspec": {
   "display_name": "Python 3 (ipykernel)",
   "language": "python",
   "name": "python3"
  },
  "language_info": {
   "codemirror_mode": {
    "name": "ipython",
    "version": 3
   },
   "file_extension": ".py",
   "mimetype": "text/x-python",
   "name": "python",
   "nbconvert_exporter": "python",
   "pygments_lexer": "ipython3",
   "version": "3.8.10"
  }
 },
 "nbformat": 4,
 "nbformat_minor": 5
}
