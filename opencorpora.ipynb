{
 "cells": [
  {
   "cell_type": "code",
   "execution_count": 18,
   "id": "e77f5c1c",
   "metadata": {},
   "outputs": [
    {
     "name": "stdout",
     "output_type": "stream",
     "text": [
      "Requirement already satisfied: opencorpora-tools in /home/kukuruku/.local/lib/python3.8/site-packages (0.6)\n",
      "Requirement already satisfied: lxml in /home/kukuruku/.local/lib/python3.8/site-packages (from opencorpora-tools) (4.8.0)\n",
      "Requirement already satisfied: stanza in /home/kukuruku/.local/lib/python3.8/site-packages (1.3.0)\n",
      "Requirement already satisfied: numpy in /home/kukuruku/.local/lib/python3.8/site-packages (from stanza) (1.22.2)\n",
      "Requirement already satisfied: emoji in /home/kukuruku/.local/lib/python3.8/site-packages (from stanza) (1.6.3)\n",
      "Requirement already satisfied: requests in /usr/lib/python3/dist-packages (from stanza) (2.22.0)\n",
      "Requirement already satisfied: six in /usr/lib/python3/dist-packages (from stanza) (1.14.0)\n",
      "Requirement already satisfied: protobuf in /home/kukuruku/.local/lib/python3.8/site-packages (from stanza) (3.19.4)\n",
      "Requirement already satisfied: tqdm in /home/kukuruku/.local/lib/python3.8/site-packages (from stanza) (4.62.3)\n",
      "Requirement already satisfied: torch>=1.3.0 in /home/kukuruku/.local/lib/python3.8/site-packages (from stanza) (1.10.2)\n",
      "Requirement already satisfied: typing-extensions in /home/kukuruku/.local/lib/python3.8/site-packages (from torch>=1.3.0->stanza) (4.1.1)\n",
      "Requirement already satisfied: razdel in /home/kukuruku/.local/lib/python3.8/site-packages (0.5.0)\n",
      "Requirement already satisfied: corus in /home/kukuruku/.local/lib/python3.8/site-packages (0.9.0)\n",
      "Requirement already satisfied: nerus in /home/kukuruku/.local/lib/python3.8/site-packages (1.7.0)\n",
      "Collecting natasha\n",
      "  Downloading natasha-1.4.0-py3-none-any.whl (34.4 MB)\n",
      "\u001b[K     |████████████████████████████████| 34.4 MB 1.4 MB/s eta 0:00:01     |████████████████████████████▉   | 31.0 MB 1.4 MB/s eta 0:00:03\n",
      "\u001b[?25hCollecting pymorphy2\n",
      "  Downloading pymorphy2-0.9.1-py3-none-any.whl (55 kB)\n",
      "\u001b[K     |████████████████████████████████| 55 kB 5.0 MB/s  eta 0:00:01\n",
      "\u001b[?25hCollecting slovnet>=0.3.0\n",
      "  Downloading slovnet-0.5.0-py3-none-any.whl (49 kB)\n",
      "\u001b[K     |████████████████████████████████| 49 kB 8.1 MB/s  eta 0:00:01\n",
      "\u001b[?25hCollecting yargy>=0.14.0\n",
      "  Downloading yargy-0.15.0-py3-none-any.whl (41 kB)\n",
      "\u001b[K     |████████████████████████████████| 41 kB 84 kB/s s eta 0:00:01\n",
      "\u001b[?25hCollecting ipymarkup>=0.8.0\n",
      "  Downloading ipymarkup-0.9.0-py3-none-any.whl (14 kB)\n",
      "Requirement already satisfied: razdel>=0.5.0 in /home/kukuruku/.local/lib/python3.8/site-packages (from natasha) (0.5.0)\n",
      "Collecting navec>=0.9.0\n",
      "  Downloading navec-0.10.0-py3-none-any.whl (23 kB)\n",
      "Collecting docopt>=0.6\n",
      "  Downloading docopt-0.6.2.tar.gz (25 kB)\n",
      "Collecting pymorphy2-dicts-ru<3.0,>=2.4\n",
      "  Downloading pymorphy2_dicts_ru-2.4.417127.4579844-py2.py3-none-any.whl (8.2 MB)\n",
      "\u001b[K     |████████████████████████████████| 8.2 MB 64.2 MB/s eta 0:00:01\n",
      "\u001b[?25hCollecting dawg-python>=0.7.1\n",
      "  Downloading DAWG_Python-0.7.2-py2.py3-none-any.whl (11 kB)\n",
      "Requirement already satisfied: numpy in /home/kukuruku/.local/lib/python3.8/site-packages (from slovnet>=0.3.0->natasha) (1.22.2)\n",
      "Collecting intervaltree>=3\n",
      "  Downloading intervaltree-3.1.0.tar.gz (32 kB)\n",
      "Collecting sortedcontainers<3.0,>=2.0\n",
      "  Downloading sortedcontainers-2.4.0-py2.py3-none-any.whl (29 kB)\n",
      "Building wheels for collected packages: docopt, intervaltree\n",
      "  Building wheel for docopt (setup.py) ... \u001b[?25ldone\n",
      "\u001b[?25h  Created wheel for docopt: filename=docopt-0.6.2-py2.py3-none-any.whl size=13704 sha256=f17c23c3bc2127c5c4766cb181b3ed29d5b2dd987155574718524fc8ce413e2e\n",
      "  Stored in directory: /home/kukuruku/.cache/pip/wheels/56/ea/58/ead137b087d9e326852a851351d1debf4ada529b6ac0ec4e8c\n",
      "  Building wheel for intervaltree (setup.py) ... \u001b[?25ldone\n",
      "\u001b[?25h  Created wheel for intervaltree: filename=intervaltree-3.1.0-py2.py3-none-any.whl size=26102 sha256=0ffd4e2343d44b154cc4c9aa689374d71c039b7567c765719c6cddbc6fb9163c\n",
      "  Stored in directory: /home/kukuruku/.cache/pip/wheels/45/23/de/5789a92962483fd33cb06674792b9697c1b3766d7c7742830e\n",
      "Successfully built docopt intervaltree\n",
      "Installing collected packages: docopt, pymorphy2-dicts-ru, dawg-python, pymorphy2, navec, slovnet, yargy, sortedcontainers, intervaltree, ipymarkup, natasha\n",
      "Successfully installed dawg-python-0.7.2 docopt-0.6.2 intervaltree-3.1.0 ipymarkup-0.9.0 natasha-1.4.0 navec-0.10.0 pymorphy2-0.9.1 pymorphy2-dicts-ru-2.4.417127.4579844 slovnet-0.5.0 sortedcontainers-2.4.0 yargy-0.15.0\n"
     ]
    }
   ],
   "source": [
    "!pip install opencorpora-tools\n",
    "!pip install stanza\n",
    "!pip install razdel\n",
    "!pip install corus\n",
    "!pip install nerus\n",
    "!pip install natasha"
   ]
  },
  {
   "cell_type": "code",
   "execution_count": 2,
   "id": "63794510",
   "metadata": {},
   "outputs": [
    {
     "data": {
      "application/vnd.jupyter.widget-view+json": {
       "model_id": "8dd435f984fc41368c324d285c30a91e",
       "version_major": 2,
       "version_minor": 0
      },
      "text/plain": [
       "Downloading https://raw.githubusercontent.com/stanfordnlp/stanza-resources/main/resources_1.3.0.json:   0%|   …"
      ]
     },
     "metadata": {},
     "output_type": "display_data"
    },
    {
     "name": "stderr",
     "output_type": "stream",
     "text": [
      "2022-02-25 23:16:09 INFO: Downloading default packages for language: ru (Russian)...\n",
      "2022-02-25 23:16:16 INFO: File exists: /home/kukuruku/stanza_resources/ru/default.zip.\n",
      "2022-02-25 23:16:24 INFO: Finished downloading models and saved to /home/kukuruku/stanza_resources.\n",
      "2022-02-25 23:16:24 INFO: Loading these models for language: ru (Russian):\n",
      "=========================\n",
      "| Processor | Package   |\n",
      "-------------------------\n",
      "| tokenize  | syntagrus |\n",
      "| pos       | syntagrus |\n",
      "| lemma     | syntagrus |\n",
      "| depparse  | syntagrus |\n",
      "| ner       | wikiner   |\n",
      "=========================\n",
      "\n",
      "2022-02-25 23:16:24 INFO: Use device: cpu\n",
      "2022-02-25 23:16:24 INFO: Loading: tokenize\n",
      "2022-02-25 23:16:24 INFO: Loading: pos\n",
      "2022-02-25 23:16:24 INFO: Loading: lemma\n",
      "2022-02-25 23:16:25 INFO: Loading: depparse\n",
      "2022-02-25 23:16:25 INFO: Loading: ner\n",
      "2022-02-25 23:16:26 INFO: Done loading processors!\n"
     ]
    }
   ],
   "source": [
    "import stanza\n",
    "\n",
    "if not 'nlp' in locals():\n",
    "    stanza.download('ru')\n",
    "    nlp = stanza.Pipeline('ru')"
   ]
  },
  {
   "cell_type": "code",
   "execution_count": 3,
   "id": "e25df6fe",
   "metadata": {},
   "outputs": [
    {
     "ename": "NameError",
     "evalue": "name 'corpus' is not defined",
     "output_type": "error",
     "traceback": [
      "\u001b[0;31m---------------------------------------------------------------------------\u001b[0m",
      "\u001b[0;31mNameError\u001b[0m                                 Traceback (most recent call last)",
      "Input \u001b[0;32mIn [3]\u001b[0m, in \u001b[0;36m<module>\u001b[0;34m\u001b[0m\n\u001b[1;32m      3\u001b[0m i \u001b[38;5;241m=\u001b[39m \u001b[38;5;241m0\u001b[39m\n\u001b[1;32m      5\u001b[0m rels \u001b[38;5;241m=\u001b[39m defaultdict(\u001b[38;5;28mlist\u001b[39m)\n\u001b[0;32m----> 7\u001b[0m \u001b[38;5;28;01mfor\u001b[39;00m doc \u001b[38;5;129;01min\u001b[39;00m \u001b[43mcorpus\u001b[49m:\n\u001b[1;32m      8\u001b[0m     i\u001b[38;5;241m+\u001b[39m\u001b[38;5;241m=\u001b[39m \u001b[38;5;241m1\u001b[39m\n\u001b[1;32m      9\u001b[0m     \u001b[38;5;28;01mif\u001b[39;00m i \u001b[38;5;241m>\u001b[39m \u001b[38;5;241m10\u001b[39m: \u001b[38;5;28;01mbreak\u001b[39;00m\n",
      "\u001b[0;31mNameError\u001b[0m: name 'corpus' is not defined"
     ]
    }
   ],
   "source": [
    "from collections import defaultdict\n",
    "\n",
    "i = 0\n",
    "\n",
    "rels = defaultdict(list)\n",
    "\n",
    "for doc in corpus:\n",
    "    i+= 1\n",
    "    if i > 10: break\n",
    "        \n",
    "    print(f\"doc: {i}\")\n",
    "        \n",
    "    for sent in doc.sentences:  \n",
    "        for [obj, root] in find_deps(sent.source):\n",
    "            rels[obj].append(root)\n",
    "            print(f\"rels: {len(rels)}\")\n",
    "\n",
    "\n",
    "def find_deps(text: str):\n",
    "    result = []\n",
    "    doc = nlp(text)\n",
    "    \n",
    "    for sent in doc.sentences:\n",
    "        for word in sent.words:\n",
    "            if word.deprel == 'obj':\n",
    "                result.append((word.lemma, sent.words[word.head - 1].lemma))\n",
    "                \n",
    "    return result\n",
    "\n",
    "rels"
   ]
  },
  {
   "cell_type": "code",
   "execution_count": 4,
   "id": "86e1ac1d",
   "metadata": {},
   "outputs": [
    {
     "data": {
      "text/plain": [
       "[Substring(0,\n",
       "           82,\n",
       "           'Моросил скучный дождь, небо было серым и холодным, стены домов мокрыми и облезлыми')]"
      ]
     },
     "execution_count": 4,
     "metadata": {},
     "output_type": "execute_result"
    }
   ],
   "source": [
    "from razdel import sentenize\n",
    "\n",
    "list(sentenize('Моросил скучный дождь, небо было серым и холодным, стены домов мокрыми и облезлыми'))"
   ]
  },
  {
   "cell_type": "code",
   "execution_count": 20,
   "id": "588cacfe",
   "metadata": {},
   "outputs": [
    {
     "name": "stdout",
     "output_type": "stream",
     "text": [
      "CPU times: user 66.4 ms, sys: 3.44 ms, total: 69.9 ms\n",
      "Wall time: 69 ms\n"
     ]
    },
    {
     "data": {
      "text/plain": [
       "[\n",
       "  [\n",
       "    {\n",
       "      \"id\": 1,\n",
       "      \"text\": \"белая\",\n",
       "      \"lemma\": \"белый\",\n",
       "      \"upos\": \"ADJ\",\n",
       "      \"feats\": \"Case=Nom|Degree=Pos|Gender=Fem|Number=Sing\",\n",
       "      \"head\": 2,\n",
       "      \"deprel\": \"amod\",\n",
       "      \"start_char\": 0,\n",
       "      \"end_char\": 5,\n",
       "      \"ner\": \"O\"\n",
       "    },\n",
       "    {\n",
       "      \"id\": 2,\n",
       "      \"text\": \"курица\",\n",
       "      \"lemma\": \"курица\",\n",
       "      \"upos\": \"NOUN\",\n",
       "      \"feats\": \"Animacy=Inan|Case=Nom|Gender=Fem|Number=Sing\",\n",
       "      \"head\": 0,\n",
       "      \"deprel\": \"root\",\n",
       "      \"start_char\": 6,\n",
       "      \"end_char\": 12,\n",
       "      \"ner\": \"O\"\n",
       "    }\n",
       "  ]\n",
       "]"
      ]
     },
     "execution_count": 20,
     "metadata": {},
     "output_type": "execute_result"
    }
   ],
   "source": [
    "%time nlp('белая курица')"
   ]
  },
  {
   "cell_type": "code",
   "execution_count": 7,
   "id": "e3fd3424",
   "metadata": {
    "scrolled": true
   },
   "outputs": [],
   "source": [
    "from natasha import (\n",
    "    Segmenter,\n",
    "    MorphVocab,\n",
    "    \n",
    "    NewsEmbedding,\n",
    "    NewsMorphTagger,\n",
    "    NewsSyntaxParser,\n",
    "    NewsNERTagger,\n",
    "    \n",
    "    PER,\n",
    "    NamesExtractor,\n",
    "\n",
    "    Doc\n",
    ")\n",
    "\n",
    "\n",
    "segmenter = Segmenter()\n",
    "morph_vocab = MorphVocab()\n",
    "\n",
    "emb = NewsEmbedding()\n",
    "morph_tagger = NewsMorphTagger(emb)\n",
    "syntax_parser = NewsSyntaxParser(emb)\n",
    "ner_tagger = NewsNERTagger(emb)\n",
    "\n",
    "names_extractor = NamesExtractor(morph_vocab)\n",
    "\n",
    "text = 'Посол Израиля на Украине Йоэль Лион признался, что пришел в шок, узнав о решении властей Львовской области объявить 2019 год годом лидера запрещенной в России Организации украинских националистов (ОУН) Степана Бандеры. Свое заявление он разместил в Twitter. «Я не могу понять, как прославление тех, кто непосредственно принимал участие в ужасных антисемитских преступлениях, помогает бороться с антисемитизмом и ксенофобией. Украина не должна забывать о преступлениях, совершенных против украинских евреев, и никоим образом не отмечать их через почитание их исполнителей», — написал дипломат. 11 декабря Львовский областной совет принял решение провозгласить 2019 год в регионе годом Степана Бандеры в связи с празднованием 110-летия со дня рождения лидера ОУН (Бандера родился 1 января 1909 года). В июле аналогичное решение принял Житомирский областной совет. В начале месяца с предложением к президенту страны Петру Порошенко вернуть Бандере звание Героя Украины обратились депутаты Верховной Рады. Парламентарии уверены, что признание Бандеры национальным героем поможет в борьбе с подрывной деятельностью против Украины в информационном поле, а также остановит «распространение мифов, созданных российской пропагандой». Степан Бандера (1909-1959) был одним из лидеров Организации украинских националистов, выступающей за создание независимого государства на территориях с украиноязычным населением. В 2010 году в период президентства Виктора Ющенко Бандера был посмертно признан Героем Украины, однако впоследствии это решение было отменено судом. '\n",
    "doc = Doc(text)"
   ]
  },
  {
   "cell_type": "code",
   "execution_count": 19,
   "id": "ceb0966c",
   "metadata": {},
   "outputs": [
    {
     "name": "stdout",
     "output_type": "stream",
     "text": [
      "CPU times: user 27 ms, sys: 2.7 ms, total: 29.7 ms\n",
      "Wall time: 19 ms\n"
     ]
    },
    {
     "data": {
      "text/plain": [
       "DocToken(start=36, stop=45, text='признался', id='1_7', head_id='1_0', rel='root', pos='VERB', feats=<Perf,Masc,Ind,Sing,Past,Fin,Mid>)"
      ]
     },
     "execution_count": 19,
     "metadata": {},
     "output_type": "execute_result"
    }
   ],
   "source": [
    "def nerus_f():\n",
    "    text = 'Посол Израиля на Украине Йоэль Лион признался, что пришел в шок, узнав о решении властей Львовской области объявить 2019 год годом лидера запрещенной в России Организации украинских националистов (ОУН) Степана Бандеры. Свое заявление он разместил в Twitter. «Я не могу понять, как прославление тех, кто непосредственно принимал участие в ужасных антисемитских преступлениях, помогает бороться с антисемитизмом и ксенофобией.'\n",
    "    doc = Doc(text)\n",
    "    doc.segment(segmenter)\n",
    "    doc.tag_morph(morph_tagger)\n",
    "    doc.parse_syntax(syntax_parser)\n",
    "    return doc.tokens\n",
    "\n",
    "\n",
    "%time nerus_f()[6]"
   ]
  },
  {
   "cell_type": "code",
   "execution_count": null,
   "id": "af302ba0",
   "metadata": {},
   "outputs": [],
   "source": []
  },
  {
   "cell_type": "code",
   "execution_count": null,
   "id": "636e1da9",
   "metadata": {},
   "outputs": [],
   "source": []
  }
 ],
 "metadata": {
  "kernelspec": {
   "display_name": "Python 3 (ipykernel)",
   "language": "python",
   "name": "python3"
  },
  "language_info": {
   "codemirror_mode": {
    "name": "ipython",
    "version": 3
   },
   "file_extension": ".py",
   "mimetype": "text/x-python",
   "name": "python",
   "nbconvert_exporter": "python",
   "pygments_lexer": "ipython3",
   "version": "3.8.10"
  }
 },
 "nbformat": 4,
 "nbformat_minor": 5
}
